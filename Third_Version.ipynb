{
 "cells": [
  {
   "cell_type": "markdown",
   "metadata": {},
   "source": [
    "# Исследовательская работа по теме \"Выделение структурных признаков символов с помощью клеточных автоматов\""
   ]
  },
  {
   "cell_type": "markdown",
   "metadata": {},
   "source": [
    "## Шаг 1. \n",
    "На вход последовательности клеточных автоматов поступает изображение символа. "
   ]
  },
  {
   "cell_type": "code",
   "execution_count": 1,
   "metadata": {},
   "outputs": [],
   "source": [
    "from glob import glob\n",
    "from skimage import io\n",
    "import matplotlib.pyplot as plt"
   ]
  },
  {
   "cell_type": "code",
   "execution_count": 2,
   "metadata": {},
   "outputs": [],
   "source": [
    "size = 28"
   ]
  },
  {
   "cell_type": "markdown",
   "metadata": {},
   "source": [
    "### Предварительная обработка изображения.\n",
    "В данной работе система распознований использует в своей работе клетки, имеющие два состояния, соответствующие к белому и черному цвету пикселей изображения.\n",
    "Программа работает только с одноканальными изображениями, поэтому, прежде чем приступить, необходимо преобразовать RGB-изображения."
   ]
  },
  {
   "cell_type": "code",
   "execution_count": 3,
   "metadata": {},
   "outputs": [],
   "source": [
    "def is_colored(image):\n",
    "    if len(image.shape) == 2:\n",
    "        return False\n",
    "    else:\n",
    "        return True"
   ]
  },
  {
   "cell_type": "markdown",
   "metadata": {},
   "source": [
    "Для выполнения этой задачи может быть выбран клеточный автомат, который будет определять каждую клетку соответствующей точке\n",
    "на изображении, а локальный радиус клеток равен нулю. Автомат будет выполнять одно из трех действий: преобразовывать цвет каждой точки входного изображения в оттенок серого; закрашивать клетку черным цветом, если клетка оказывается темнее определенного предельного цвета; окрашивать клетку белым цветом, если клетка имеет цвет светлее определьного цвета."
   ]
  },
  {
   "cell_type": "code",
   "execution_count": 4,
   "metadata": {},
   "outputs": [],
   "source": [
    "def rgb2gray(pix):\n",
    "    for i in range(size):\n",
    "        for j in range(size):\n",
    "            a = pix[i,j][0]\n",
    "            b = pix[i,j][1]\n",
    "            c = pix[i,j][2]\n",
    "            S = 0.3 * a + 0.59 * b + 0.11 * c\n",
    "            if (S > 128):\n",
    "                pix[i,j][0] = 255\n",
    "                pix[i,j][1] = 255\n",
    "                pix[i,j][2] = 255\n",
    "            else:\n",
    "                pix[i,j][0] = 0\n",
    "                pix[i,j][1] = 0\n",
    "                pix[i,j][2] = 0\n",
    "    return np.round(np.sum(pix, axis=2)).astype(np.uint8).reshape((size, size))"
   ]
  },
  {
   "cell_type": "code",
   "execution_count": 5,
   "metadata": {},
   "outputs": [],
   "source": [
    "def mono(pix):\n",
    "    for i in range(size):\n",
    "        for j in range(size):\n",
    "            if (pix[i,j] > 128):\n",
    "                pix[i,j] = 255\n",
    "            else:\n",
    "                pix[i,j] = 0\n",
    "    return pix"
   ]
  },
  {
   "cell_type": "markdown",
   "metadata": {},
   "source": [
    "## Шаг 1"
   ]
  },
  {
   "cell_type": "markdown",
   "metadata": {},
   "source": [
    "Создадим массив, в котором будем хранить метки автомата: красный - 1, серый - 2, синий - 3, зеленый - 4, оранжевый - 5 и т.д.. Второй массив нам требуется, т.к. все действия с клетками совершаются одновременно. Каждый элемент array[i][j] содержит четыре элемента, т.к. это предельно возможное количество меток в автомате."
   ]
  },
  {
   "cell_type": "code",
   "execution_count": 6,
   "metadata": {},
   "outputs": [],
   "source": [
    "red = 1\n",
    "grey = 2\n",
    "blue = 3\n",
    "green = 4\n",
    "orange = 5\n",
    "azure = 6\n",
    "brown = 7\n",
    "yellow = 8\n",
    "purple = 9\n",
    "maroon = 10"
   ]
  },
  {
   "cell_type": "code",
   "execution_count": 7,
   "metadata": {},
   "outputs": [],
   "source": [
    "import numpy as np\n",
    "array = np.zeros(shape=(size,size,7))\n",
    "array1 = np.copy(array)"
   ]
  },
  {
   "cell_type": "markdown",
   "metadata": {},
   "source": [
    "Также нам потребуются три вспомогательных массива для проверки на шагах 3, 5, 11 и 22. Обозначим их narr1, narr2 и narr3."
   ]
  },
  {
   "cell_type": "markdown",
   "metadata": {},
   "source": [
    "## Приступим ко второму шагу автомата: \n",
    "найдем верхнюю левую белую клетку и поставим нужные метки. Верхняя левая черная клетка изображения помечается красной и серой метками. "
   ]
  },
  {
   "cell_type": "code",
   "execution_count": 8,
   "metadata": {},
   "outputs": [],
   "source": [
    "def step2(img):\n",
    "    global array,array1, i,j\n",
    "    flag = 0\n",
    "    while (i < size) and not flag:\n",
    "        while (j < size) and not flag:\n",
    "            if img[i][j] == 255:\n",
    "                flag = 1 \n",
    "            else:\n",
    "                j+=1\n",
    "        if flag == 0:\n",
    "            i+=1\n",
    "            j = 0\n",
    "\n",
    "    array[i][j][0] = red\n",
    "    array[i][j][1] = grey"
   ]
  },
  {
   "cell_type": "markdown",
   "metadata": {},
   "source": [
    "## Шаг 3. Автомат «создание шлейфа»: \n",
    "красная метка заменяется синей меткой. "
   ]
  },
  {
   "cell_type": "code",
   "execution_count": 9,
   "metadata": {},
   "outputs": [],
   "source": [
    "def step3():\n",
    "    global array, array1, red, blue, i, size\n",
    "    flag = 0\n",
    "    line = i\n",
    "    column = 0\n",
    "    while (line < size) and not flag:\n",
    "        while (column < size) and not flag:\n",
    "            if array[line][column][0] == red:\n",
    "                array[line][column][0] = blue\n",
    "                flag = 1\n",
    "            else:\n",
    "                column+=1\n",
    "        column = 0\n",
    "        line+=1\n",
    "    array1 = np.copy(array)"
   ]
  },
  {
   "cell_type": "markdown",
   "metadata": {},
   "source": [
    "## Шаг 4. Автомат «создание фронта»: \n",
    "белые клетки без серой метки рядом с клетками с серой меткой помечаются серой и красной метками. "
   ]
  },
  {
   "cell_type": "code",
   "execution_count": 10,
   "metadata": {},
   "outputs": [],
   "source": [
    "def trycolour8(x,y,z,n):\n",
    "    global array\n",
    "    if x == 0:\n",
    "        if y == 0:\n",
    "            if (array[x + 1][y][n] == z) or (array[x + 1][y + 1][n] == z) or (array[x][y + 1][n] == z):\n",
    "                return 1\n",
    "        elif y == (size - 1):\n",
    "            if (array[x + 1][y][n] == z) or (array[x + 1][y - 1][n] == z) or (array[x][y - 1][n] == z):\n",
    "                return 1\n",
    "        else:\n",
    "            if (array[x + 1][y][n] == z) or (array[x + 1][y + 1][n] == z) or (array[x][y + 1][n] == z) or (array[x][y - 1][n] == z) or (array[x + 1][y - 1][n] == z):\n",
    "                return 1\n",
    "    elif x == (size - 1):\n",
    "        if y == 0:\n",
    "            if (array[x - 1][y][n] == z) or (array[x - 1][y + 1][n] == z) or (array[x][y + 1][n] == z):\n",
    "                return 1\n",
    "        elif y == (size - 1):\n",
    "            if (array[x - 1][y][n] == z) or (array[x - 1][y - 1][n] == z) or (array[x][y - 1][n] == z):\n",
    "                return 1\n",
    "        else:\n",
    "            if (array[x - 1][y][n] == z) or (array[x - 1][y + 1][n] == z) or (array[x][y + 1][n] == z) or (array[x][y - 1][n] == z) or (array[x - 1][y - 1][n] == z):\n",
    "                return 1\n",
    "    elif y == 0:\n",
    "        if (array[x - 1][y][n] == z) or (array[x - 1][y + 1][n] == z) or (array[x][y + 1][n] == z) or (array[x + 1][y + 1][n] == z) or (array[x + 1][y][n] == z):\n",
    "            return 1\n",
    "    elif y == (size - 1):\n",
    "        if (array[x - 1][y][n] == z) or (array[x - 1][y - 1][n] == z) or (array[x][y - 1][n] == z) or (array[x + 1][y - 1][n] == z) or (array[x + 1][y][n] == z):\n",
    "            return 1\n",
    "    else:\n",
    "        if (array[x - 1][y][n] == z) or (array[x - 1][y - 1][n] == z) or (array[x][y - 1][n] == z) or (array[x + 1][y - 1][n] == z) or (array[x + 1][y][n] == z) or (array[x + 1][y + 1][n] == z) or (array[x][y + 1][n] == z)  or (array[x - 1][y + 1][n] == z):\n",
    "            return 1\n",
    "    return 0"
   ]
  },
  {
   "cell_type": "code",
   "execution_count": 11,
   "metadata": {},
   "outputs": [],
   "source": [
    "def trycolour4(x,y,z,n):\n",
    "    global array\n",
    "    if x == 0:\n",
    "        if y == 0:\n",
    "            if (array[x + 1][y][n] == z) or (array[x][y + 1][n] == z):\n",
    "                return 1\n",
    "        elif y == (size - 1):\n",
    "            if (array[x + 1][y][n] == z) or (array[x][y - 1][n] == z):\n",
    "                return 1\n",
    "        else:\n",
    "            if (array[x + 1][y][n] == z) or (array[x][y + 1][n] == z) or (array[x][y - 1][n] == z):\n",
    "                return 1\n",
    "    elif x == (size - 1):\n",
    "        if y == 0:\n",
    "            if (array[x - 1][y][n] == z) or (array[x][y + 1][n] == z):\n",
    "                return 1\n",
    "        elif y == (size - 1):\n",
    "            if (array[x - 1][y][n] == z) or (array[x][y - 1][n] == z):\n",
    "                return 1\n",
    "        else:\n",
    "            if (array[x - 1][y][n] == z) or (array[x][y + 1][n] == z) or (array[x][y - 1][n] == z):\n",
    "                return 1\n",
    "    elif y == 0:\n",
    "        if (array[x - 1][y][n] == z) or (array[x][y + 1][n] == z) or (array[x + 1][y][n] == z):\n",
    "            return 1\n",
    "    elif y == (size - 1):\n",
    "        if (array[x - 1][y][n] == z) or (array[x][y - 1][n] == z) or (array[x + 1][y][n] == z):\n",
    "            return 1\n",
    "    else:\n",
    "        if (array[x - 1][y][n] == z) or (array[x][y - 1][n] == z) or (array[x + 1][y][n] == z) or (array[x][y + 1][n] == z):\n",
    "            return 1\n",
    "    return 0"
   ]
  },
  {
   "cell_type": "code",
   "execution_count": 12,
   "metadata": {},
   "outputs": [],
   "source": [
    "def step4(img):\n",
    "    global array, array1,red, grey, size\n",
    "    for line in range(size):\n",
    "        for column in range(size):\n",
    "            if (img[line, column] == 255) and (array[line][column][1] != grey):\n",
    "                if (trycolour4(line, column, grey, 1) == 1):\n",
    "                    array1[line][column][0] = red\n",
    "                    array1[line][column][1] = grey\n",
    "    array = np.copy(array1)"
   ]
  },
  {
   "cell_type": "markdown",
   "metadata": {},
   "source": [
    "## Шаг 5. \n",
    "Одна клетка рядом с красной меткой заменяет синюю метку зеленой. "
   ]
  },
  {
   "cell_type": "code",
   "execution_count": 13,
   "metadata": {},
   "outputs": [],
   "source": [
    "def step5():\n",
    "    global array,red, grey, green, i, size\n",
    "    flag = 0\n",
    "    line = i\n",
    "    column = 0\n",
    "    while (line < size) and not flag:\n",
    "        while (column < size) and not flag:\n",
    "            if (trycolour8(line,column,red,0) == 1) and (array[line][column][0] == blue):\n",
    "                array[line][column][0] = green\n",
    "                flag = 1\n",
    "            else:\n",
    "                column+=1\n",
    "        column = 0\n",
    "        line+=1"
   ]
  },
  {
   "cell_type": "markdown",
   "metadata": {},
   "source": [
    "## Шаг 6. Автомат «проход по шлейфу»: \n",
    "все клетки рядом с клетками с зелеными метками заменяют синие метки зелеными. "
   ]
  },
  {
   "cell_type": "code",
   "execution_count": 14,
   "metadata": {},
   "outputs": [],
   "source": [
    "def step6():\n",
    "    global array, array1,red, grey, green, i, blue, size\n",
    "    array1 = np.copy(array)\n",
    "    for line in range (i, size):\n",
    "        for column in range(size):\n",
    "            if ((trycolour8(line,column,green,0) == 1) or (trycolour8(line,column,green,2) == 1)) and (array[line][column][0] == blue):\n",
    "                array1[line][column][0] = green\n",
    "    array = np.copy(array1)"
   ]
  },
  {
   "cell_type": "markdown",
   "metadata": {},
   "source": [
    "## Шаг 7. Автомат «проход по фронту»: \n",
    "все клетки с красной, но без зеленой метки, находящиеся рядом с клетками с зеленой меткой, помечаются зеленой меткой; если клетка с красной и зеленой меткой находится рядом с клеткой с синей меткой, то данная клетка помечается оранжевой меткой. "
   ]
  },
  {
   "cell_type": "code",
   "execution_count": 15,
   "metadata": {},
   "outputs": [],
   "source": [
    "def step7():\n",
    "    global array, array1,red, grey, green, i, orange, size\n",
    "    for line in range (i, size):\n",
    "        for column in range(size):\n",
    "            if (array[line][column][0] == red):\n",
    "                if (array[line][column][2] != green):\n",
    "                    if (trycolour8(line,column,green,0) == 1) or (trycolour8(line,column,green,2) == 1):\n",
    "                        array1[line][column][2] = green\n",
    "                elif (trycolour8(line,column,blue,0) == 1):\n",
    "                    array1[line][column][3] = orange\n",
    "    array = np.copy(array1)"
   ]
  },
  {
   "cell_type": "markdown",
   "metadata": {},
   "source": [
    "## Шаг 8. \n",
    "Если, начиная с шага 5, автоматы не изменили состояния ни одной клетки, то перейти на шаг 9, иначе перейти на шаг 5. "
   ]
  },
  {
   "cell_type": "markdown",
   "metadata": {},
   "source": [
    "## Шаг 9. Автомат «удаление зеленых меток»: \n",
    "все зеленые метки у клеток удаляются. "
   ]
  },
  {
   "cell_type": "code",
   "execution_count": 16,
   "metadata": {},
   "outputs": [],
   "source": [
    "def step9():\n",
    "    global array, array1,green, i, size\n",
    "    for line in range (i, size):\n",
    "        for column in range(size):\n",
    "            if array[line][column][0] == green:\n",
    "                array[line][column][0] = 0\n",
    "            if array[line][column][2] == green:\n",
    "                array[line][column][2] = 0\n",
    "    array1 = np.copy(array)"
   ]
  },
  {
   "cell_type": "markdown",
   "metadata": {},
   "source": [
    "## Шаг 10.  \n",
    "Если у одной из клеток присутствует синяя метка, то перейти на шаг 11, иначе на шаг 20.  "
   ]
  },
  {
   "cell_type": "markdown",
   "metadata": {},
   "source": [
    "## Шаг 11.  Автомат «создание эха»: \n",
    "синюю метку клеток заменить коричневой и голубой, к красной метке символов добавить коричневую метку. "
   ]
  },
  {
   "cell_type": "code",
   "execution_count": 17,
   "metadata": {},
   "outputs": [],
   "source": [
    "def step11():\n",
    "    global array,brown, i, size, blue, azure\n",
    "    for line in range (i, size):\n",
    "        for column in range(size):\n",
    "            if array[line][column][0] == blue:\n",
    "                array[line][column][4] = brown\n",
    "                array[line][column][0] = azure\n",
    "            elif array[line][column][0] == red:\n",
    "                array[line][column][4] = brown"
   ]
  },
  {
   "cell_type": "markdown",
   "metadata": {},
   "source": [
    "## Шаг 12.  Автомат «создание шлейфа эха»: \n",
    "коричневая метка заменяется желтой меткой. "
   ]
  },
  {
   "cell_type": "code",
   "execution_count": 18,
   "metadata": {},
   "outputs": [],
   "source": [
    "def step12():\n",
    "    global array, array1,green, i, size, blue, azure, yellow\n",
    "    for line in range (i, size):\n",
    "        for column in range(size):\n",
    "            if array[line][column][4] == brown:\n",
    "                array[line][column][4] = yellow\n",
    "    array1 = np.copy(array)"
   ]
  },
  {
   "cell_type": "markdown",
   "metadata": {},
   "source": [
    "## Шаг 13.  Автомат «создание фронта эха»: \n",
    "белые клетки с серой меткой, но без фиолетовой метки рядом с клетками с фиолетовой меткой помечаются фиолетовой и коричневой метками. "
   ]
  },
  {
   "cell_type": "code",
   "execution_count": 19,
   "metadata": {},
   "outputs": [],
   "source": [
    "def step13(img):\n",
    "    global red, grey, size,array, array1\n",
    "    for line in range(size):\n",
    "        for column in range(size):\n",
    "            if (img[line, column] == 255) and (array[line][column][1] == grey):\n",
    "                if (array[line][column][5] != purple) and (trycolour8(line,column,purple,5) == 1):\n",
    "                    array1[line][column][5] = purple\n",
    "                    array1[line][column][4] = brown\n",
    "    array = np.copy(array1)"
   ]
  },
  {
   "cell_type": "markdown",
   "metadata": {},
   "source": [
    "## Шаг 14.  \n",
    "Одна клетка рядом с коричневой меткой меняет желтую метку малиновой. "
   ]
  },
  {
   "cell_type": "code",
   "execution_count": 20,
   "metadata": {},
   "outputs": [],
   "source": [
    "def step14():\n",
    "    global array,brown, yellow, maroon, i, size\n",
    "    flag = 0\n",
    "    line = i\n",
    "    column = 0\n",
    "    while (line < size) and not flag:\n",
    "        while (column < size) and not flag:\n",
    "            if (trycolour8(line,column,brown,4) == 1) and (array[line][column][4] == yellow):\n",
    "                array[line][column][4] = maroon\n",
    "                flag = 1\n",
    "            else:\n",
    "                column+=1\n",
    "        column = 0\n",
    "        line+=1"
   ]
  },
  {
   "cell_type": "markdown",
   "metadata": {},
   "source": [
    "## Шаг 15.  Автомат «проход по шлейфу эха»: \n",
    "все клетки рядом с клетками с малиновыми метками заменяют желтые метки малиновыми. "
   ]
  },
  {
   "cell_type": "code",
   "execution_count": 21,
   "metadata": {},
   "outputs": [],
   "source": [
    "def step15():\n",
    "    global array, array1,maroon, yellow, size\n",
    "    for line in range(size):\n",
    "        for column in range(size):\n",
    "            if (array[line][column][4] == yellow) and (trycolour8(line,column,maroon,4) == 1):\n",
    "                array1[line][column][4] = maroon\n",
    "    array = np.copy(array1)"
   ]
  },
  {
   "cell_type": "markdown",
   "metadata": {},
   "source": [
    "## Шаг 16.  Автомат «проход по фронту эха»: \n",
    "все клетки с коричневой, но не с малиновой меткой, находящиеся рядом с клетками с малиновой меткой, помечаются малиновой меткой; если клетка с коричневой и малиновой метками находится рядом с клеткой с желтой меткой, то данная клетка помечается пурпурной меткой. "
   ]
  },
  {
   "cell_type": "code",
   "execution_count": 22,
   "metadata": {},
   "outputs": [],
   "source": [
    "def step16():\n",
    "    global array, array1,maroon, brown, size\n",
    "    for line in range(size):\n",
    "        for column in range(size):\n",
    "            if (array[line][column][4] == brown) and (array[line][column][6] != maroon) and ((trycolour8(line,column,maroon,4) == 1) or (trycolour8(line,column,maroon,6) == 1)):\n",
    "                array1[line][column][6] = maroon\n",
    "            elif (array[line][column][4] == brown) and (array[line][column][6] == maroon) and (trycolour8(line,column,yellow,4) == 1):\n",
    "                array1[line][column][5] = purple\n",
    "    array = np.copy(array1)"
   ]
  },
  {
   "cell_type": "markdown",
   "metadata": {},
   "source": [
    "## Шаг 17.  \n",
    "Если, начиная с шага 14, автоматы не изменили состояния ни одной клетки, то перейти на шаг 18, иначе перейти на шаг 14. "
   ]
  },
  {
   "cell_type": "markdown",
   "metadata": {},
   "source": [
    "## Шаг 18.  Автомат «удаление малиновых меток»: \n",
    "все малиновые метки у клеток убираются. "
   ]
  },
  {
   "cell_type": "code",
   "execution_count": 23,
   "metadata": {},
   "outputs": [],
   "source": [
    "def step18():\n",
    "    global array, array1,maroon, i, size\n",
    "    for line in range (i, size):\n",
    "        for column in range(size):\n",
    "            if array[line][column][4] == maroon:\n",
    "                array[line][column][4] = 0\n",
    "            if array[line][column][6] == maroon:\n",
    "                array[line][column][6] = 0\n",
    "    array1 = np.copy(array)"
   ]
  },
  {
   "cell_type": "markdown",
   "metadata": {},
   "source": [
    "## Шаг 19.  \n",
    "Если, начиная с шага 12, автоматы не изменили состояния ни одной  клетки, то перейти на шаг 20, иначе перейти на шаг 12. "
   ]
  },
  {
   "cell_type": "markdown",
   "metadata": {},
   "source": [
    "## Шаг 20.  \n",
    "Если, начиная с шага 3, автоматы не изменили состояния ни одной  клетки, то перейти на шаг 21, иначе перейти на шаг 3. "
   ]
  },
  {
   "cell_type": "markdown",
   "metadata": {},
   "source": [
    "## Шаг 21.  \n",
    "Верхняя левая черная клетка изображения помечается синей меткой."
   ]
  },
  {
   "cell_type": "code",
   "execution_count": 24,
   "metadata": {},
   "outputs": [],
   "source": [
    "def step21():\n",
    "    global i,j,array\n",
    "    array[i][j][0] = blue"
   ]
  },
  {
   "cell_type": "markdown",
   "metadata": {},
   "source": [
    "## Шаг 22.  \n",
    "Автомат «удание нижних лишних меток»: если над клеткой с синей или оранжевой меткой находится клетка с такой же меткой, то в данной клетке эту метку удалить. "
   ]
  },
  {
   "cell_type": "code",
   "execution_count": 25,
   "metadata": {},
   "outputs": [],
   "source": [
    "def checkup(x,y,z):\n",
    "    global blue, orange,array\n",
    "    if x == 0:\n",
    "        return 0\n",
    "    elif z == blue:\n",
    "        if array[x - 1][y][0] == z:\n",
    "            return 1\n",
    "        else:\n",
    "            return 0\n",
    "    elif z == orange:\n",
    "        if array[x - 1][y][3] == z:\n",
    "            return 1\n",
    "        else:\n",
    "            return 0"
   ]
  },
  {
   "cell_type": "code",
   "execution_count": 26,
   "metadata": {},
   "outputs": [],
   "source": [
    "def step22():\n",
    "    global array, array1,orange, i, blue, size\n",
    "    for line in range (i, size):\n",
    "        for column in range(size):\n",
    "            if (array[line][column][0] == blue) and (checkup(line,column,blue) == 1):\n",
    "                array1[line][column][0] = 0\n",
    "            if (array[line][column][3] == orange) and (checkup(line,column,orange) == 1):\n",
    "                array1[line][column][3] = 0\n",
    "    array = np.copy(array1)"
   ]
  },
  {
   "cell_type": "markdown",
   "metadata": {},
   "source": [
    "## Шаг 23.  Автомат «удаление лишних меток справа»: \n",
    "если слева от клетки с синей или оранжевой меткой находится клетка с такой же меткой, то в данной клетке эту метку удалить. "
   ]
  },
  {
   "cell_type": "code",
   "execution_count": 27,
   "metadata": {},
   "outputs": [],
   "source": [
    "def checkleft(x,y,z):\n",
    "    global blue, orange,array\n",
    "    if y == 0:\n",
    "        return 0\n",
    "    elif z == blue:\n",
    "        if array[x][y - 1][0] == z:\n",
    "            return 1\n",
    "        else:\n",
    "            return 0\n",
    "    elif z == orange:\n",
    "        if array[x][y - 1][3] == z:\n",
    "            return 1\n",
    "        else:\n",
    "            return 0"
   ]
  },
  {
   "cell_type": "code",
   "execution_count": 28,
   "metadata": {},
   "outputs": [],
   "source": [
    "def step23():\n",
    "    global array, array1,i, blue, orange, size\n",
    "    for line in range (i, size):\n",
    "        for column in range(size):\n",
    "            if (array[line][column][0] == blue) and (checkleft(line,column,blue) == 1):\n",
    "                array1[line][column][0] = 0\n",
    "            if (array[line][column][3] == orange) and (checkleft(line,column,orange) == 1):\n",
    "                array1[line][column][3] = 0\n",
    "    array = np.copy(array1)"
   ]
  },
  {
   "cell_type": "markdown",
   "metadata": {},
   "source": [
    "## Шаг 24. \n",
    "Если, начиная с шага 12, автоматы не изменили состояния ни одной  клетки, то завершить последовательность, иначе перейти на шаг 12. "
   ]
  },
  {
   "cell_type": "markdown",
   "metadata": {},
   "source": [
    "### Проверка, есть ли синяя метка."
   ]
  },
  {
   "cell_type": "code",
   "execution_count": 29,
   "metadata": {},
   "outputs": [],
   "source": [
    "def isblue():\n",
    "    global blue, i, size,array\n",
    "    line = i\n",
    "    column = 0\n",
    "    while (line < size):\n",
    "        while (column < size):\n",
    "            if (array[line][column][0] == blue):\n",
    "                return 1\n",
    "            else:\n",
    "                column+=1\n",
    "        column = 0\n",
    "        line+=1\n",
    "    return 0"
   ]
  },
  {
   "cell_type": "markdown",
   "metadata": {},
   "source": [
    "## Общий вид программы\n",
    "Теперь необходимо собрать все шаги вместе, учтя проверки на шагах 3, 5, 11 и 22:"
   ]
  },
  {
   "cell_type": "code",
   "execution_count": 35,
   "metadata": {},
   "outputs": [
    {
     "name": "stdout",
     "output_type": "stream",
     "text": [
      "C:\\Users\\User\\mmp\\training_letters\\58b12fdfb6869.DvgNT.png\n",
      "C:\\Users\\User\\mmp\\training_letters\\58b12fe3afd4c.V6019.png\n",
      "C:\\Users\\User\\mmp\\training_letters\\58b12fe713694.4AALu.png\n",
      "C:\\Users\\User\\mmp\\training_letters\\58b12feb8d870.hBgnb.png\n",
      "C:\\Users\\User\\mmp\\training_letters\\58b12ff790b6c.fStSj.png\n",
      "C:\\Users\\User\\mmp\\training_letters\\58b12ffb1e122.yrRqK.png\n",
      "C:\\Users\\User\\mmp\\training_letters\\58b12ffe95549.7WrO1.png\n",
      "C:\\Users\\User\\mmp\\training_letters\\58b130078eb18.Ntce4.png\n",
      "C:\\Users\\User\\mmp\\training_letters\\58b1300c0b92c.oL4lC.png\n"
     ]
    },
    {
     "ename": "KeyboardInterrupt",
     "evalue": "",
     "output_type": "error",
     "traceback": [
      "\u001b[1;31m---------------------------------------------------------------------------\u001b[0m",
      "\u001b[1;31mKeyboardInterrupt\u001b[0m                         Traceback (most recent call last)",
      "\u001b[1;32m<ipython-input-35-8a33e76ac004>\u001b[0m in \u001b[0;36m<module>\u001b[1;34m\u001b[0m\n\u001b[0;32m     22\u001b[0m             \u001b[0mnarr2\u001b[0m \u001b[1;33m=\u001b[0m \u001b[0mnp\u001b[0m\u001b[1;33m.\u001b[0m\u001b[0mcopy\u001b[0m\u001b[1;33m(\u001b[0m\u001b[0marray\u001b[0m\u001b[1;33m)\u001b[0m\u001b[1;33m\u001b[0m\u001b[1;33m\u001b[0m\u001b[0m\n\u001b[0;32m     23\u001b[0m             \u001b[0mstep5\u001b[0m\u001b[1;33m(\u001b[0m\u001b[1;33m)\u001b[0m\u001b[1;33m\u001b[0m\u001b[1;33m\u001b[0m\u001b[0m\n\u001b[1;32m---> 24\u001b[1;33m             \u001b[0mstep6\u001b[0m\u001b[1;33m(\u001b[0m\u001b[1;33m)\u001b[0m\u001b[1;33m\u001b[0m\u001b[1;33m\u001b[0m\u001b[0m\n\u001b[0m\u001b[0;32m     25\u001b[0m             \u001b[0mstep7\u001b[0m\u001b[1;33m(\u001b[0m\u001b[1;33m)\u001b[0m\u001b[1;33m\u001b[0m\u001b[1;33m\u001b[0m\u001b[0m\n\u001b[0;32m     26\u001b[0m             \u001b[0mequal2\u001b[0m \u001b[1;33m=\u001b[0m \u001b[0mnp\u001b[0m\u001b[1;33m.\u001b[0m\u001b[0mequal\u001b[0m\u001b[1;33m(\u001b[0m\u001b[0mnarr2\u001b[0m\u001b[1;33m,\u001b[0m \u001b[0marray\u001b[0m\u001b[1;33m)\u001b[0m\u001b[1;33m.\u001b[0m\u001b[0mall\u001b[0m\u001b[1;33m(\u001b[0m\u001b[1;33m)\u001b[0m\u001b[1;33m\u001b[0m\u001b[1;33m\u001b[0m\u001b[0m\n",
      "\u001b[1;32m<ipython-input-14-7f906089ae93>\u001b[0m in \u001b[0;36mstep6\u001b[1;34m()\u001b[0m\n\u001b[0;32m      6\u001b[0m             \u001b[1;32mif\u001b[0m \u001b[1;33m(\u001b[0m\u001b[1;33m(\u001b[0m\u001b[0mtrycolour8\u001b[0m\u001b[1;33m(\u001b[0m\u001b[0mline\u001b[0m\u001b[1;33m,\u001b[0m\u001b[0mcolumn\u001b[0m\u001b[1;33m,\u001b[0m\u001b[0mgreen\u001b[0m\u001b[1;33m,\u001b[0m\u001b[1;36m0\u001b[0m\u001b[1;33m)\u001b[0m \u001b[1;33m==\u001b[0m \u001b[1;36m1\u001b[0m\u001b[1;33m)\u001b[0m \u001b[1;32mor\u001b[0m \u001b[1;33m(\u001b[0m\u001b[0mtrycolour8\u001b[0m\u001b[1;33m(\u001b[0m\u001b[0mline\u001b[0m\u001b[1;33m,\u001b[0m\u001b[0mcolumn\u001b[0m\u001b[1;33m,\u001b[0m\u001b[0mgreen\u001b[0m\u001b[1;33m,\u001b[0m\u001b[1;36m2\u001b[0m\u001b[1;33m)\u001b[0m \u001b[1;33m==\u001b[0m \u001b[1;36m1\u001b[0m\u001b[1;33m)\u001b[0m\u001b[1;33m)\u001b[0m \u001b[1;32mand\u001b[0m \u001b[1;33m(\u001b[0m\u001b[0marray\u001b[0m\u001b[1;33m[\u001b[0m\u001b[0mline\u001b[0m\u001b[1;33m]\u001b[0m\u001b[1;33m[\u001b[0m\u001b[0mcolumn\u001b[0m\u001b[1;33m]\u001b[0m\u001b[1;33m[\u001b[0m\u001b[1;36m0\u001b[0m\u001b[1;33m]\u001b[0m \u001b[1;33m==\u001b[0m \u001b[0mblue\u001b[0m\u001b[1;33m)\u001b[0m\u001b[1;33m:\u001b[0m\u001b[1;33m\u001b[0m\u001b[1;33m\u001b[0m\u001b[0m\n\u001b[0;32m      7\u001b[0m                 \u001b[0marray1\u001b[0m\u001b[1;33m[\u001b[0m\u001b[0mline\u001b[0m\u001b[1;33m]\u001b[0m\u001b[1;33m[\u001b[0m\u001b[0mcolumn\u001b[0m\u001b[1;33m]\u001b[0m\u001b[1;33m[\u001b[0m\u001b[1;36m0\u001b[0m\u001b[1;33m]\u001b[0m \u001b[1;33m=\u001b[0m \u001b[0mgreen\u001b[0m\u001b[1;33m\u001b[0m\u001b[1;33m\u001b[0m\u001b[0m\n\u001b[1;32m----> 8\u001b[1;33m     \u001b[0marray\u001b[0m \u001b[1;33m=\u001b[0m \u001b[0mnp\u001b[0m\u001b[1;33m.\u001b[0m\u001b[0mcopy\u001b[0m\u001b[1;33m(\u001b[0m\u001b[0marray1\u001b[0m\u001b[1;33m)\u001b[0m\u001b[1;33m\u001b[0m\u001b[1;33m\u001b[0m\u001b[0m\n\u001b[0m",
      "\u001b[1;32m~\\Anaconda3\\lib\\site-packages\\numpy\\lib\\function_base.py\u001b[0m in \u001b[0;36mcopy\u001b[1;34m(a, order)\u001b[0m\n\u001b[0;32m    790\u001b[0m \u001b[1;33m\u001b[0m\u001b[0m\n\u001b[0;32m    791\u001b[0m     \"\"\"\n\u001b[1;32m--> 792\u001b[1;33m     \u001b[1;32mreturn\u001b[0m \u001b[0marray\u001b[0m\u001b[1;33m(\u001b[0m\u001b[0ma\u001b[0m\u001b[1;33m,\u001b[0m \u001b[0morder\u001b[0m\u001b[1;33m=\u001b[0m\u001b[0morder\u001b[0m\u001b[1;33m,\u001b[0m \u001b[0mcopy\u001b[0m\u001b[1;33m=\u001b[0m\u001b[1;32mTrue\u001b[0m\u001b[1;33m)\u001b[0m\u001b[1;33m\u001b[0m\u001b[1;33m\u001b[0m\u001b[0m\n\u001b[0m\u001b[0;32m    793\u001b[0m \u001b[1;33m\u001b[0m\u001b[0m\n\u001b[0;32m    794\u001b[0m \u001b[1;31m# Basic operations\u001b[0m\u001b[1;33m\u001b[0m\u001b[1;33m\u001b[0m\u001b[1;33m\u001b[0m\u001b[0m\n",
      "\u001b[1;31mKeyboardInterrupt\u001b[0m: "
     ]
    }
   ],
   "source": [
    "num = 0\n",
    "features = []\n",
    "\n",
    "for filename in glob(r'C:\\Users\\User\\mmp\\training_letters\\*.png'):\n",
    "    img = io.imread(filename)\n",
    "    \n",
    "    if is_colored(img):\n",
    "        img = rgb2gray(img)\n",
    "    img = mono(img)\n",
    "    \n",
    "    print(filename)  \n",
    "    i = 0\n",
    "    j = 0        \n",
    "    step2(img)\n",
    "    equal1 = 0\n",
    "    while (not equal1):\n",
    "        narr1 = np.copy(array)\n",
    "        step3()\n",
    "        step4(img)\n",
    "        equal2 = 0\n",
    "        while (not equal2):\n",
    "            narr2 = np.copy(array)\n",
    "            step5()\n",
    "            step6()\n",
    "            step7()\n",
    "            equal2 = np.equal(narr2, array).all()\n",
    "        step9()\n",
    "        if (isblue() == 1):\n",
    "            equal3 = 0\n",
    "            while (not equal3):\n",
    "                narr3 = np.copy(array)\n",
    "                equal2 = 0\n",
    "                while (not equal2):\n",
    "                    narr2 = np.copy(array)\n",
    "                    step11()\n",
    "                    step12()\n",
    "                    step13(img)\n",
    "                    step14()\n",
    "                    step15()\n",
    "                    step16()\n",
    "                    equal2 = np.equal(narr2, array).all()\n",
    "                step18()\n",
    "                equal3 = np.equal(narr3, array).all()      \n",
    "        equal1 = np.equal(narr1, array).all()\n",
    "    step21()\n",
    "    equal1 = 0\n",
    "\n",
    "    while (not equal1):\n",
    "        narr1 = np.copy(array)\n",
    "        step22()\n",
    "        step23()\n",
    "        equal1 = np.equal(narr1, array).all()\n",
    "\n",
    "    for line in range (size):\n",
    "        for column in range(size):\n",
    "            if array[line][column][0] == azure:\n",
    "                a = [num, line, column]\n",
    "                features.append(a)\n",
    "\n",
    "    array = np.zeros(shape=(size,size,7))\n",
    "    array1 = np.copy(array)\n",
    "    num += 1"
   ]
  },
  {
   "cell_type": "markdown",
   "metadata": {},
   "source": [
    "На выходе алгоритма некоторые клетки изображения помечены голубыми метками. Их мы и будем использовать для распознавания. Выделенные признаки заносим в csv таблицу:"
   ]
  },
  {
   "cell_type": "code",
   "execution_count": 34,
   "metadata": {},
   "outputs": [],
   "source": [
    "import csv\n",
    "\n",
    "global features\n",
    "FILENAME = \"features1.csv\"\n",
    "\n",
    "with open(FILENAME, \"w\", newline=\"\") as file:\n",
    "    writer = csv.writer(file)\n",
    "    writer.writerows(features)"
   ]
  },
  {
   "cell_type": "markdown",
   "metadata": {},
   "source": [
    "Ура, мы получили табличку с нужными нам данными. Можем работать дальше."
   ]
  }
 ],
 "metadata": {
  "kernelspec": {
   "display_name": "Python 3",
   "language": "python",
   "name": "python3"
  },
  "language_info": {
   "codemirror_mode": {
    "name": "ipython",
    "version": 3
   },
   "file_extension": ".py",
   "mimetype": "text/x-python",
   "name": "python",
   "nbconvert_exporter": "python",
   "pygments_lexer": "ipython3",
   "version": "3.7.4"
  }
 },
 "nbformat": 4,
 "nbformat_minor": 2
}
